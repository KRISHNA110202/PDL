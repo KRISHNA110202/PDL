{
  "cells": [
    {
      "cell_type": "markdown",
      "metadata": {
        "id": "758b1175"
      },
      "source": [
        "# PDL LABHSEET-9"
      ],
      "id": "758b1175"
    },
    {
      "cell_type": "markdown",
      "metadata": {
        "id": "4c986d64"
      },
      "source": [
        "## SRIDHAR S\n",
        "## 2252292139"
      ],
      "id": "4c986d64"
    },
    {
      "cell_type": "markdown",
      "metadata": {
        "id": "04f66de6"
      },
      "source": [
        "###### Import libraries\n"
      ],
      "id": "04f66de6"
    },
    {
      "cell_type": "code",
      "execution_count": null,
      "metadata": {
        "id": "cd3f428e"
      },
      "outputs": [],
      "source": [
        "from __future__ import print_function\n",
        "import keras\n",
        "from keras.datasets import cifar10\n",
        "from keras.preprocessing.image import ImageDataGenerator\n",
        "from keras.models import Sequential\n",
        "from keras.layers import Dense, Dropout, Activation, Flatten\n",
        "from keras.layers import Conv2D, MaxPooling2D\n",
        "import matplotlib.pyplot as plt\n",
        "%matplotlib inline"
      ],
      "id": "cd3f428e"
    },
    {
      "cell_type": "markdown",
      "metadata": {
        "id": "c6c11732"
      },
      "source": [
        "1.Load your data and print the shape of training and test samples"
      ],
      "id": "c6c11732"
    },
    {
      "cell_type": "code",
      "execution_count": null,
      "metadata": {
        "id": "d1da1cf9",
        "scrolled": true
      },
      "outputs": [],
      "source": [
        "(x_train,y_train),(x_test,ytest)=cifar10.load_data()\n",
        "print('x_trainshape:',x_train.shape)\n",
        "print(x_train.shape[0],'trainsamples')\n",
        "print(x_test.shape[0],'testsamples')"
      ],
      "id": "d1da1cf9"
    },
    {
      "cell_type": "markdown",
      "metadata": {
        "id": "77246070"
      },
      "source": [
        "2.Print the shape of one image (is it 32x32x3 numpy array ?)"
      ],
      "id": "77246070"
    },
    {
      "cell_type": "code",
      "execution_count": null,
      "metadata": {
        "id": "ac312086"
      },
      "outputs": [],
      "source": [
        "a=x_train[444].shape\n",
        "a"
      ],
      "id": "ac312086"
    },
    {
      "cell_type": "code",
      "execution_count": null,
      "metadata": {
        "id": "6bbcca6d"
      },
      "outputs": [],
      "source": [
        "if a == (32, 32, 3):\n",
        "    print(\"Yes\")\n",
        "else:\n",
        "    print(\"no\")"
      ],
      "id": "6bbcca6d"
    },
    {
      "cell_type": "markdown",
      "metadata": {
        "id": "ec98a5c8"
      },
      "source": [
        "3.Display one image using imshow() fucntion"
      ],
      "id": "ec98a5c8"
    },
    {
      "cell_type": "code",
      "execution_count": null,
      "metadata": {
        "id": "6d51d00f"
      },
      "outputs": [],
      "source": [
        "print(y_train[444])\n",
        "plt.imshow(x_train[444])"
      ],
      "id": "6d51d00f"
    },
    {
      "cell_type": "markdown",
      "metadata": {
        "id": "e5e7f4e8"
      },
      "source": [
        "4. Convert y_train and y_test into categorical values\n",
        "\n",
        "> Indented block\n",
        "\n"
      ],
      "id": "e5e7f4e8"
    },
    {
      "cell_type": "code",
      "execution_count": null,
      "metadata": {
        "id": "4f1b3a2c"
      },
      "outputs": [],
      "source": [
        "num_classes=10\n",
        "y_train=keras.utils.to_categorical(y_train,num_classes)\n",
        "y_test=keras.utils.to_categorical(ytest,num_classes)"
      ],
      "id": "4f1b3a2c"
    },
    {
      "cell_type": "code",
      "execution_count": null,
      "metadata": {
        "id": "b4fed35c"
      },
      "outputs": [],
      "source": [
        "y_train[444]"
      ],
      "id": "b4fed35c"
    },
    {
      "cell_type": "markdown",
      "metadata": {
        "id": "58418ced"
      },
      "source": [
        " 5.Convert train data into float and scale"
      ],
      "id": "58418ced"
    },
    {
      "cell_type": "code",
      "execution_count": null,
      "metadata": {
        "id": "465ac8f2"
      },
      "outputs": [],
      "source": [
        "x_train=x_train.astype('float32')\n",
        "x_test=x_test.astype('float32')\n",
        "x_train/=255\n",
        "x_test/=255"
      ],
      "id": "465ac8f2"
    },
    {
      "cell_type": "markdown",
      "metadata": {
        "id": "84f79350"
      },
      "source": [
        "###### 6. Build your first CNN"
      ],
      "id": "84f79350"
    },
    {
      "cell_type": "code",
      "execution_count": null,
      "metadata": {
        "id": "ca21fa08"
      },
      "outputs": [],
      "source": [
        "model=Sequential()\n",
        "model.add(Conv2D(32,(3,3),strides=(2,2),padding='same',input_shape=(32,32,3)))\n",
        "model.add(Activation('relu'))\n",
        "model.add(Conv2D(64,(3,3),strides=(2,2),padding='same'))\n",
        "model.add(Activation('relu'))\n",
        "model.add(MaxPooling2D(pool_size=(2,2)))\n",
        "model.add(Flatten())\n",
        "model.add(Dense(128))\n",
        "model.add(Activation('relu'))\n",
        "model.add(Dense(10))\n",
        "model.add(Activation('softmax'))\n",
        "model.compile(loss='categorical_crossentropy',optimizer='adam',metrics=['accuracy'])\n",
        "model.summary()"
      ],
      "id": "ca21fa08"
    },
    {
      "cell_type": "markdown",
      "metadata": {
        "id": "P6oTPVWj3BA6"
      },
      "source": [
        "7.Parameters given"
      ],
      "id": "P6oTPVWj3BA6"
    },
    {
      "cell_type": "code",
      "execution_count": null,
      "metadata": {
        "id": "676aad27"
      },
      "outputs": [],
      "source": [
        "from keras.models import Sequential\n",
        "from keras.layers import Conv2D, MaxPooling2D, Flatten, Dense, Dropout\n",
        "model1 = Sequential()\n",
        "model1.add(Conv2D(32, (5, 5), strides=(2, 2), padding='same', input_shape=(32, 32, 3)))\n",
        "model1.add(Activation('relu'))\n",
        "model1.add(Conv2D(32, (5, 5), strides=(2, 2), padding='same'))\n",
        "model1.add(Activation('relu'))\n",
        "model1.add(MaxPooling2D(pool_size=(2, 2)))\n",
        "model1.add(Dropout(0.25))\n",
        "model1.add(Flatten())\n",
        "model1.add(Dense(512))\n",
        "model1.add(Activation('relu'))\n",
        "model1.add(Dropout(0.5))\n",
        "model1.add(Dense(10))\n",
        "model1.add(Activation('softmax'))\n",
        "model1.compile(loss='categorical_crossentropy', optimizer='adam', metrics=['accuracy'])\n",
        "model1.summary()"
      ],
      "id": "676aad27"
    },
    {
      "cell_type": "markdown",
      "metadata": {
        "id": "f35deb59"
      },
      "source": [
        "###### 8. Print summary and verify your configuration (Total params: 181,162)"
      ],
      "id": "f35deb59"
    },
    {
      "cell_type": "code",
      "execution_count": null,
      "metadata": {
        "id": "deff679d"
      },
      "outputs": [],
      "source": [
        "expected_params=181,162\n",
        "actual_params=model1.count_params()\n",
        "print(\"ExpectedTotalParameters:\",expected_params)\n",
        "print(\"ActualTotalParameters:\",actual_params)"
      ],
      "id": "deff679d"
    },
    {
      "cell_type": "markdown",
      "metadata": {
        "id": "7f95e6fc"
      },
      "source": [
        "###### 9. Compile and fit and validate your model with the given parameters"
      ],
      "id": "7f95e6fc"
    },
    {
      "cell_type": "code",
      "execution_count": null,
      "metadata": {
        "colab": {
          "base_uri": "https://localhost:8080/"
        },
        "id": "aee57476",
        "outputId": "3a126e7e-35fe-4022-ad7d-0db06a9af101"
      },
      "outputs": [
        {
          "output_type": "stream",
          "name": "stdout",
          "text": [
            "Epoch 1/15\n",
            "50000/50000 [==============================] - 102s 2ms/step - loss: 2.2756 - accuracy: 0.1506 - val_loss: 2.2452 - val_accuracy: 0.1819\n",
            "Epoch 2/15\n",
            "50000/50000 [==============================] - 90s 2ms/step - loss: 2.2284 - accuracy: 0.1812 - val_loss: 2.2071 - val_accuracy: 0.1994\n",
            "Epoch 3/15\n",
            "50000/50000 [==============================] - 109s 2ms/step - loss: 2.1985 - accuracy: 0.1883 - val_loss: 2.1788 - val_accuracy: 0.1997\n",
            "Epoch 4/15\n",
            "50000/50000 [==============================] - 96s 2ms/step - loss: 2.1777 - accuracy: 0.1945 - val_loss: 2.1602 - val_accuracy: 0.2183\n",
            "Epoch 5/15\n",
            "50000/50000 [==============================] - 110s 2ms/step - loss: 2.1630 - accuracy: 0.2011 - val_loss: 2.1514 - val_accuracy: 0.1963\n",
            "Epoch 6/15\n",
            "50000/50000 [==============================] - 103s 2ms/step - loss: 2.1523 - accuracy: 0.2024 - val_loss: 2.1374 - val_accuracy: 0.2133\n",
            "Epoch 7/15\n",
            "50000/50000 [==============================] - 101s 2ms/step - loss: 2.1441 - accuracy: 0.2082 - val_loss: 2.1294 - val_accuracy: 0.2073\n",
            "Epoch 8/15\n",
            "50000/50000 [==============================] - 111s 2ms/step - loss: 2.1372 - accuracy: 0.2085 - val_loss: 2.1257 - val_accuracy: 0.2079\n",
            "Epoch 9/15\n",
            "50000/50000 [==============================] - 112s 2ms/step - loss: 2.1327 - accuracy: 0.2107 - val_loss: 2.1188 - val_accuracy: 0.2181\n",
            "Epoch 10/15\n",
            "50000/50000 [==============================] - 110s 2ms/step - loss: 2.1281 - accuracy: 0.2139 - val_loss: 2.1133 - val_accuracy: 0.2193\n",
            "Epoch 11/15\n",
            "50000/50000 [==============================] - 107s 2ms/step - loss: 2.1246 - accuracy: 0.2145 - val_loss: 2.1091 - val_accuracy: 0.2232\n",
            "Epoch 12/15\n",
            "50000/50000 [==============================] - 109s 2ms/step - loss: 2.1218 - accuracy: 0.2151 - val_loss: 2.1060 - val_accuracy: 0.2173\n",
            "Epoch 13/15\n",
            "49999/50000 [============================>.] - ETA: 0s - loss: 2.1191 - accuracy: 0.2177"
          ]
        }
      ],
      "source": [
        "from keras.optimizers import RMSprop\n",
        "from keras.callbacks import ModelCheckpoint, EarlyStopping\n",
        "from keras.layers import GlobalAveragePooling2D\n",
        "model1 = Sequential()\n",
        "optimizer = RMSprop(learning_rate=0.0005, rho=0.9)\n",
        "model1.add(GlobalAveragePooling2D())\n",
        "model1.add(Dense(10, activation='softmax'))\n",
        "model1.compile(loss='categorical_crossentropy', optimizer=optimizer, metrics=['accuracy'])\n",
        "early_stopping = EarlyStopping(monitor='val_loss', patience=3, restore_best_weights=True)\n",
        "history = model1.fit(x_train, y_train, batch_size=1, epochs=15, validation_data=(x_test, y_test), shuffle=True, callbacks=[early_stopping])\n",
        "print(\"Training Loss:\", history.history['loss'][-1])\n",
        "print(\"Training Accuracy:\", history.history['accuracy'][-1])\n",
        "print(\"Validation Loss:\", history.history['val_loss'][-1])\n",
        "print(\"Validation Accuracy:\", history.history['val_accuracy'][-1])"
      ],
      "id": "aee57476"
    },
    {
      "cell_type": "code",
      "execution_count": null,
      "metadata": {
        "colab": {
          "background_save": true
        },
        "id": "pILCOeEWti-s"
      },
      "outputs": [],
      "source": [
        "from keras.optimizers import RMSprop\n",
        "from keras.callbacks import ModelCheckpoint, EarlyStopping\n",
        "from keras.layers import GlobalAveragePooling2D\n",
        "model1 = Sequential()\n",
        "optimizer = RMSprop(learning_rate=0.0005, rho=0.9)\n",
        "model1.add(GlobalAveragePooling2D())\n",
        "model1.add(Dense(10, activation='softmax'))\n",
        "model1.compile(loss='categorical_crossentropy', optimizer=optimizer, metrics=['accuracy'])\n",
        "early_stopping = EarlyStopping(monitor='val_loss', patience=3, restore_best_weights=True)\n",
        "history = model1.fit(x_train, y_train, batch_size=32, epochs=15, validation_data=(x_test, y_test), shuffle=True, callbacks=[early_stopping])\n",
        "print(\"Training Loss:\", history.history['loss'][-1])\n",
        "print(\"Training Accuracy:\", history.history['accuracy'][-1])\n",
        "print(\"Validation Loss:\", history.history['val_loss'][-1])\n",
        "print(\"Validation Accuracy:\", history.history['val_accuracy'][-1])"
      ],
      "id": "pILCOeEWti-s"
    },
    {
      "cell_type": "markdown",
      "metadata": {
        "id": "b46b4aa0"
      },
      "source": [
        "###### Part-II- Model Improvement"
      ],
      "id": "b46b4aa0"
    },
    {
      "cell_type": "code",
      "execution_count": null,
      "metadata": {
        "colab": {
          "background_save": true
        },
        "id": "d6d63ab9"
      },
      "outputs": [],
      "source": [
        "cm = Sequential()\n",
        "cm.add(Conv2D(32, (3, 3), strides=(1, 1), padding='same', input_shape=(32, 32, 3)))\n",
        "cm.add(Activation('relu'))\n",
        "cm.add(Conv2D(64, (3, 3), strides=(1, 1), padding='same'))\n",
        "cm.add(Activation('relu'))\n",
        "cm.add(MaxPooling2D(pool_size=(2, 2)))\n",
        "cm.add(Conv2D(128, (3, 3), strides=(1, 1), padding='same'))\n",
        "cm.add(Activation('relu'))\n",
        "cm.add(Conv2D(128, (3, 3), strides=(1, 1), padding='same'))\n",
        "cm.add(Activation('relu'))\n",
        "cm.add(MaxPooling2D(pool_size=(2, 2)))\n",
        "cm.add(Flatten())\n",
        "cm.add(Dense(512))\n",
        "cm.add(Activation('relu'))\n",
        "cm.add(Dense(10))\n",
        "cm.add(Activation('softmax'))\n",
        "cm.compile(loss='categorical_crossentropy', optimizer='adam', metrics=['accuracy'])\n",
        "cm.summary()"
      ],
      "id": "d6d63ab9"
    },
    {
      "cell_type": "code",
      "execution_count": null,
      "metadata": {
        "id": "OefiC__4UCxp"
      },
      "outputs": [],
      "source": [
        "total_params_complicated = cm.count_params()\n",
        "history_complicated = cm.fit(x_train, y_train, batch_size=1, epochs=5,validation_data=(x_test, y_test), shuffle=True)"
      ],
      "id": "OefiC__4UCxp"
    },
    {
      "cell_type": "code",
      "execution_count": null,
      "metadata": {
        "id": "ef44adc6"
      },
      "outputs": [],
      "source": [
        "history_complicated.history['loss']"
      ],
      "id": "ef44adc6"
    },
    {
      "cell_type": "code",
      "execution_count": null,
      "metadata": {
        "id": "1cd10cbc"
      },
      "outputs": [],
      "source": [
        "history_complicated.history['accuracy']"
      ],
      "id": "1cd10cbc"
    },
    {
      "cell_type": "code",
      "execution_count": null,
      "metadata": {
        "id": "f2335e22"
      },
      "outputs": [],
      "source": [
        "history_complicated.history['val_loss']"
      ],
      "id": "f2335e22"
    },
    {
      "cell_type": "code",
      "execution_count": null,
      "metadata": {
        "id": "d440a2ff"
      },
      "outputs": [],
      "source": [
        "history_complicated.history['val_accuracy']"
      ],
      "id": "d440a2ff"
    },
    {
      "cell_type": "code",
      "execution_count": null,
      "metadata": {
        "id": "5fa1c0a3"
      },
      "outputs": [],
      "source": [],
      "id": "5fa1c0a3"
    },
    {
      "cell_type": "code",
      "execution_count": null,
      "metadata": {
        "id": "db23210d"
      },
      "outputs": [],
      "source": [],
      "id": "db23210d"
    },
    {
      "cell_type": "code",
      "execution_count": null,
      "metadata": {
        "id": "LT6ksOADXH8p"
      },
      "outputs": [],
      "source": [],
      "id": "LT6ksOADXH8p"
    }
  ],
  "metadata": {
    "colab": {
      "provenance": []
    },
    "kernelspec": {
      "display_name": "Python 3 (ipykernel)",
      "language": "python",
      "name": "python3"
    },
    "language_info": {
      "codemirror_mode": {
        "name": "ipython",
        "version": 3
      },
      "file_extension": ".py",
      "mimetype": "text/x-python",
      "name": "python",
      "nbconvert_exporter": "python",
      "pygments_lexer": "ipython3",
      "version": "3.9.12"
    }
  },
  "nbformat": 4,
  "nbformat_minor": 5
}