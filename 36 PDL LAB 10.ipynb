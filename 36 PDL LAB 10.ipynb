{
 "cells": [
  {
   "cell_type": "markdown",
   "id": "a004faaa",
   "metadata": {},
   "source": [
    "## SHREE KRISHNA KANTH S\n",
    "## 225229136\n",
    "## II MSc DATA SCIENCE \"A\"\n",
    "## PDL LAB 10"
   ]
  },
  {
   "cell_type": "markdown",
   "id": "a0019c9f",
   "metadata": {},
   "source": [
    "### STEP 1"
   ]
  },
  {
   "cell_type": "code",
   "execution_count": 1,
   "id": "7500c56e",
   "metadata": {},
   "outputs": [],
   "source": [
    "import nltk\n",
    "from nltk.sentiment.vader import SentimentIntensityAnalyzer"
   ]
  },
  {
   "cell_type": "code",
   "execution_count": 2,
   "id": "d0e1960f",
   "metadata": {},
   "outputs": [
    {
     "name": "stderr",
     "output_type": "stream",
     "text": [
      "[nltk_data] Downloading package vader_lexicon to\n",
      "[nltk_data]     C:\\Users\\shree\\AppData\\Roaming\\nltk_data...\n",
      "[nltk_data]   Package vader_lexicon is already up-to-date!\n"
     ]
    },
    {
     "data": {
      "text/plain": [
       "True"
      ]
     },
     "execution_count": 2,
     "metadata": {},
     "output_type": "execute_result"
    }
   ],
   "source": [
    "nltk.download('vader_lexicon')"
   ]
  },
  {
   "cell_type": "code",
   "execution_count": 3,
   "id": "6b6d1c48",
   "metadata": {},
   "outputs": [],
   "source": [
    "def model():\n",
    "    text=input(\"Enter a sentence: \")\n",
    "    sid=SentimentIntensityAnalyzer()\n",
    "    score=((sid.polarity_scores(str(text))))['compound']\n",
    "    if(score>0):\n",
    "        label='This sentence is positive'\n",
    "    elif(score==0):\n",
    "        label='This sentence is neutral'\n",
    "    else:\n",
    "        label='This sentence is negative'\n",
    "    print(label)"
   ]
  },
  {
   "cell_type": "code",
   "execution_count": 5,
   "id": "73f3468a",
   "metadata": {},
   "outputs": [
    {
     "name": "stdout",
     "output_type": "stream",
     "text": [
      "Enter a sentence: This is bad\n",
      "This sentence is negative\n"
     ]
    }
   ],
   "source": [
    "model()"
   ]
  },
  {
   "cell_type": "code",
   "execution_count": null,
   "id": "fcae3b0b",
   "metadata": {},
   "outputs": [],
   "source": []
  }
 ],
 "metadata": {
  "kernelspec": {
   "display_name": "Python 3 (ipykernel)",
   "language": "python",
   "name": "python3"
  },
  "language_info": {
   "codemirror_mode": {
    "name": "ipython",
    "version": 3
   },
   "file_extension": ".py",
   "mimetype": "text/x-python",
   "name": "python",
   "nbconvert_exporter": "python",
   "pygments_lexer": "ipython3",
   "version": "3.9.12"
  }
 },
 "nbformat": 4,
 "nbformat_minor": 5
}
