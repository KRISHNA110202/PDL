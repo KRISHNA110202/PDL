{
 "cells": [
  {
   "cell_type": "markdown",
   "id": "144d3b04",
   "metadata": {},
   "source": [
    "## SHREE KRISHNA KANTH S\n",
    "## 225229136\n",
    "## II MSc DATA SCIENCE \"A\"\n",
    "## PDL LAB 16"
   ]
  },
  {
   "cell_type": "markdown",
   "id": "9c952669-04be-47cd-a2f5-83ab35cbe09f",
   "metadata": {
    "id": "9c952669-04be-47cd-a2f5-83ab35cbe09f"
   },
   "source": [
    "##### Step 1: Imports"
   ]
  },
  {
   "cell_type": "code",
   "execution_count": 1,
   "id": "f53e5ae3-8d84-4083-9c3e-3790152b0da0",
   "metadata": {
    "id": "f53e5ae3-8d84-4083-9c3e-3790152b0da0"
   },
   "outputs": [],
   "source": [
    "import numpy as np\n",
    "import tensorflow as tf\n",
    "from tensorflow.keras.datasets import imdb\n",
    "from tensorflow.keras.preprocessing.sequence import pad_sequences\n",
    "from tensorflow.keras.models import Sequential\n",
    "from tensorflow.keras.layers import Embedding, LSTM, Dense, Bidirectional, GRU, Dropout\n",
    "from tensorflow.keras.optimizers import Adam"
   ]
  },
  {
   "cell_type": "markdown",
   "id": "db4440df-490d-4880-aa9b-872f26c87e18",
   "metadata": {
    "id": "db4440df-490d-4880-aa9b-872f26c87e18"
   },
   "source": [
    "##### Step 2: Load and preprocess the dataset\n"
   ]
  },
  {
   "cell_type": "code",
   "execution_count": 2,
   "id": "3ffd78ac-123b-40d4-bb8a-1c34efc69fe9",
   "metadata": {
    "colab": {
     "base_uri": "https://localhost:8080/"
    },
    "id": "3ffd78ac-123b-40d4-bb8a-1c34efc69fe9",
    "outputId": "5d850eac-5442-4aad-8e12-d394f2ac355e"
   },
   "outputs": [
    {
     "name": "stdout",
     "output_type": "stream",
     "text": [
      "Downloading data from https://storage.googleapis.com/tensorflow/tf-keras-datasets/imdb.npz\n",
      "17464789/17464789 [==============================] - 0s 0us/step\n"
     ]
    }
   ],
   "source": [
    "(x_train, y_train), (x_test, y_test) = imdb.load_data(num_words=10000)"
   ]
  },
  {
   "cell_type": "markdown",
   "id": "9ce96718-60d7-465c-ab54-4887df3d34d3",
   "metadata": {
    "id": "9ce96718-60d7-465c-ab54-4887df3d34d3"
   },
   "source": [
    "##### Step 3: Dataset Preparation\n"
   ]
  },
  {
   "cell_type": "code",
   "execution_count": 3,
   "id": "61299629-62f4-49d3-8ea4-88a3be7bdbc6",
   "metadata": {
    "id": "61299629-62f4-49d3-8ea4-88a3be7bdbc6"
   },
   "outputs": [],
   "source": [
    "max_sequence_length = 500 \n",
    "x_train = pad_sequences(x_train, maxlen=max_sequence_length)\n",
    "x_test = pad_sequences(x_test, maxlen=max_sequence_length)"
   ]
  },
  {
   "cell_type": "code",
   "execution_count": 4,
   "id": "dd426d1f-d57a-412b-a3f7-16df5b03a366",
   "metadata": {
    "id": "dd426d1f-d57a-412b-a3f7-16df5b03a366"
   },
   "outputs": [],
   "source": [
    "split_ratio = 0.6\n",
    "split_index = int(len(x_train) * split_ratio)\n",
    "x_train_split, y_train_split = x_train[:split_index], y_train[:split_index]\n",
    "x_val_split, y_val_split = x_train[split_index:], y_train[split_index:]"
   ]
  },
  {
   "cell_type": "markdown",
   "id": "ce1e33f8-f22a-4de5-bc18-4026a40fb98a",
   "metadata": {
    "id": "ce1e33f8-f22a-4de5-bc18-4026a40fb98a"
   },
   "source": [
    "##### Step 4: Model Creation\n"
   ]
  },
  {
   "cell_type": "code",
   "execution_count": 5,
   "id": "dbc472ce-2cd9-4bfb-b0cf-9abe12e7804b",
   "metadata": {
    "id": "dbc472ce-2cd9-4bfb-b0cf-9abe12e7804b"
   },
   "outputs": [],
   "source": [
    "embedding_dim = 128\n",
    "hidden_units = 64"
   ]
  },
  {
   "cell_type": "code",
   "execution_count": 6,
   "id": "3d859bbb-3a68-4671-bb07-a847ad1cff11",
   "metadata": {
    "colab": {
     "base_uri": "https://localhost:8080/"
    },
    "id": "3d859bbb-3a68-4671-bb07-a847ad1cff11",
    "outputId": "7efa9a3d-b928-457d-c18a-25970cc72567"
   },
   "outputs": [
    {
     "name": "stdout",
     "output_type": "stream",
     "text": [
      "Epoch 1/3\n",
      "469/469 [==============================] - 90s 175ms/step - loss: 0.4328 - accuracy: 0.7975 - val_loss: 0.3657 - val_accuracy: 0.8423\n",
      "Epoch 2/3\n",
      "469/469 [==============================] - 43s 91ms/step - loss: 0.2563 - accuracy: 0.9018 - val_loss: 0.3842 - val_accuracy: 0.8547\n",
      "Epoch 3/3\n",
      "469/469 [==============================] - 26s 55ms/step - loss: 0.2195 - accuracy: 0.9151 - val_loss: 0.3544 - val_accuracy: 0.8658\n"
     ]
    },
    {
     "data": {
      "text/plain": [
       "<keras.src.callbacks.History at 0x7b9096ab20b0>"
      ]
     },
     "execution_count": 6,
     "metadata": {},
     "output_type": "execute_result"
    }
   ],
   "source": [
    "model = Sequential()\n",
    "model.add(Embedding(input_dim=10000, output_dim=embedding_dim, input_length=max_sequence_length))\n",
    "model.add(LSTM(hidden_units))\n",
    "model.add(Dense(1, activation='sigmoid'))\n",
    "model.compile(loss='binary_crossentropy', optimizer='adam', metrics=['accuracy'])\n",
    "model.fit(x_train_split, y_train_split, validation_data=(x_val_split, y_val_split), epochs=3)"
   ]
  },
  {
   "cell_type": "markdown",
   "id": "29aeb0cd-2ae5-4bb1-9620-7bb0d2151169",
   "metadata": {
    "id": "29aeb0cd-2ae5-4bb1-9620-7bb0d2151169"
   },
   "source": [
    "##### Step 5: Run the models with different LSTM hidden layers (2, 3, 4)"
   ]
  },
  {
   "cell_type": "code",
   "execution_count": 7,
   "id": "49d7afcc-bbe3-40aa-8a5e-5aeb8110ebd0",
   "metadata": {
    "colab": {
     "base_uri": "https://localhost:8080/"
    },
    "id": "49d7afcc-bbe3-40aa-8a5e-5aeb8110ebd0",
    "outputId": "4e5a1560-12d5-4d5c-a221-8658ab88820b"
   },
   "outputs": [
    {
     "name": "stdout",
     "output_type": "stream",
     "text": [
      "Training LSTM model with 2 hidden layers\n",
      "Epoch 1/3\n",
      "469/469 [==============================] - 83s 165ms/step - loss: 0.4575 - accuracy: 0.7897 - val_loss: 0.3545 - val_accuracy: 0.8474\n",
      "Epoch 2/3\n",
      "469/469 [==============================] - 51s 108ms/step - loss: 0.2752 - accuracy: 0.8929 - val_loss: 0.3239 - val_accuracy: 0.8678\n",
      "Epoch 3/3\n",
      "469/469 [==============================] - 36s 78ms/step - loss: 0.1899 - accuracy: 0.9295 - val_loss: 0.4481 - val_accuracy: 0.8677\n",
      "Training LSTM model with 3 hidden layers\n",
      "Epoch 1/3\n",
      "469/469 [==============================] - 93s 184ms/step - loss: 0.4651 - accuracy: 0.7819 - val_loss: 0.3648 - val_accuracy: 0.8487\n",
      "Epoch 2/3\n",
      "469/469 [==============================] - 56s 119ms/step - loss: 0.3113 - accuracy: 0.8740 - val_loss: 0.4570 - val_accuracy: 0.7864\n",
      "Epoch 3/3\n",
      "469/469 [==============================] - 48s 103ms/step - loss: 0.2634 - accuracy: 0.8922 - val_loss: 0.3745 - val_accuracy: 0.8471\n",
      "Training LSTM model with 4 hidden layers\n",
      "Epoch 1/3\n",
      "469/469 [==============================] - 100s 196ms/step - loss: 0.5047 - accuracy: 0.7537 - val_loss: 0.4208 - val_accuracy: 0.8164\n",
      "Epoch 2/3\n",
      "469/469 [==============================] - 63s 134ms/step - loss: 0.3117 - accuracy: 0.8806 - val_loss: 0.3618 - val_accuracy: 0.8483\n",
      "Epoch 3/3\n",
      "469/469 [==============================] - 57s 121ms/step - loss: 0.2111 - accuracy: 0.9253 - val_loss: 0.3817 - val_accuracy: 0.8470\n"
     ]
    }
   ],
   "source": [
    "lstm_hidden_layers = [2, 3, 4]\n",
    "for num_layers in lstm_hidden_layers:\n",
    "    model = Sequential()\n",
    "    model.add(Embedding(input_dim=10000, output_dim=embedding_dim, input_length=max_sequence_length))\n",
    "    for _ in range(num_layers):\n",
    "        model.add(LSTM(hidden_units, return_sequences=True)) \n",
    "    model.add(LSTM(hidden_units))\n",
    "    model.add(Dense(1, activation='sigmoid'))\n",
    "    model.compile(loss='binary_crossentropy', optimizer='adam', metrics=['accuracy'])\n",
    "    print(f\"Training LSTM model with {num_layers} hidden layers\")\n",
    "    model.fit(x_train_split, y_train_split, validation_data=(x_val_split, y_val_split), epochs=3)"
   ]
  },
  {
   "cell_type": "markdown",
   "id": "97c0fc71-e916-4513-a2d6-c87d4cf6f5f2",
   "metadata": {
    "id": "97c0fc71-e916-4513-a2d6-c87d4cf6f5f2"
   },
   "source": [
    "##### Step 6: Variations\n"
   ]
  },
  {
   "cell_type": "code",
   "execution_count": 8,
   "id": "d104c185-9b2d-4980-a86e-7db9e54b4e3e",
   "metadata": {
    "colab": {
     "base_uri": "https://localhost:8080/"
    },
    "id": "d104c185-9b2d-4980-a86e-7db9e54b4e3e",
    "outputId": "79932612-b4c3-4794-c399-cf3076d81e6b"
   },
   "outputs": [
    {
     "name": "stdout",
     "output_type": "stream",
     "text": [
      "Epoch 1/3\n",
      "469/469 [==============================] - 77s 156ms/step - loss: 0.4702 - accuracy: 0.7749 - val_loss: 0.4612 - val_accuracy: 0.7871\n",
      "Epoch 2/3\n",
      "469/469 [==============================] - 40s 86ms/step - loss: 0.2864 - accuracy: 0.8877 - val_loss: 0.3398 - val_accuracy: 0.8659\n",
      "Epoch 3/3\n",
      "469/469 [==============================] - 30s 65ms/step - loss: 0.1944 - accuracy: 0.9279 - val_loss: 0.4122 - val_accuracy: 0.8427\n"
     ]
    },
    {
     "data": {
      "text/plain": [
       "<keras.src.callbacks.History at 0x7b909b126170>"
      ]
     },
     "execution_count": 8,
     "metadata": {},
     "output_type": "execute_result"
    }
   ],
   "source": [
    "from tensorflow.keras.layers import Bidirectional\n",
    "bidirectional_model = Sequential()\n",
    "bidirectional_model.add(Embedding(input_dim=10000, output_dim=embedding_dim, input_length=max_sequence_length))\n",
    "bidirectional_model.add(Bidirectional(LSTM(hidden_units)))\n",
    "bidirectional_model.add(Dense(1, activation='sigmoid'))\n",
    "bidirectional_model.compile(loss='binary_crossentropy', optimizer='adam', metrics=['accuracy'])\n",
    "bidirectional_model.fit(x_train_split, y_train_split, validation_data=(x_val_split, y_val_split), epochs=3)"
   ]
  },
  {
   "cell_type": "code",
   "execution_count": 9,
   "id": "4f42a8ae-075f-4821-b9eb-7620beb94058",
   "metadata": {
    "id": "4f42a8ae-075f-4821-b9eb-7620beb94058"
   },
   "outputs": [],
   "source": [
    "max_sequence_length = 400\n",
    "hidden_units = 128"
   ]
  },
  {
   "cell_type": "code",
   "execution_count": 10,
   "id": "f57aff3f-e2d0-4810-8360-01593eaaf8da",
   "metadata": {
    "id": "f57aff3f-e2d0-4810-8360-01593eaaf8da"
   },
   "outputs": [],
   "source": [
    "from tensorflow.keras.layers import Dropout\n",
    "from tensorflow.keras.preprocessing.sequence import pad_sequences\n",
    "max_sequence_length = 400 \n",
    "x_train_split = pad_sequences(x_train_split, maxlen=max_sequence_length)\n",
    "x_val_split = pad_sequences(x_val_split, maxlen=max_sequence_length)\n"
   ]
  },
  {
   "cell_type": "code",
   "execution_count": 12,
   "id": "CFKS7PR4N0h_",
   "metadata": {
    "colab": {
     "base_uri": "https://localhost:8080/"
    },
    "id": "CFKS7PR4N0h_",
    "outputId": "c994f0cc-7806-4d39-9c6c-4757e77ccbce"
   },
   "outputs": [
    {
     "name": "stdout",
     "output_type": "stream",
     "text": [
      "Epoch 1/3\n",
      "469/469 [==============================] - 72s 146ms/step - loss: 0.3934 - accuracy: 0.8112 - val_loss: 0.3035 - val_accuracy: 0.8717\n",
      "Epoch 2/3\n",
      "469/469 [==============================] - 38s 82ms/step - loss: 0.1970 - accuracy: 0.9218 - val_loss: 0.3133 - val_accuracy: 0.8817\n",
      "Epoch 3/3\n",
      "469/469 [==============================] - 27s 58ms/step - loss: 0.0965 - accuracy: 0.9639 - val_loss: 0.4073 - val_accuracy: 0.8684\n"
     ]
    },
    {
     "data": {
      "text/plain": [
       "<keras.src.callbacks.History at 0x7b909b14e710>"
      ]
     },
     "execution_count": 12,
     "metadata": {},
     "output_type": "execute_result"
    }
   ],
   "source": [
    "from tensorflow.keras.layers import Bidirectional, Flatten\n",
    "model = Sequential()\n",
    "model.add(Embedding(input_dim=10000, output_dim=embedding_dim, input_length=max_sequence_length))\n",
    "model.add(LSTM(hidden_units, return_sequences=True))\n",
    "model.add(LSTM(hidden_units, return_sequences=True))  \n",
    "model.add(Flatten())  \n",
    "model.add(Dense(1, activation='sigmoid'))\n",
    "model.compile(loss='binary_crossentropy', optimizer='adam', metrics=['accuracy'])\n",
    "model.fit(x_train_split, y_train_split, validation_data=(x_val_split, y_val_split), epochs=3)"
   ]
  },
  {
   "cell_type": "markdown",
   "id": "d0a44596-8c20-4407-8ba5-b50f5156ad5f",
   "metadata": {
    "id": "d0a44596-8c20-4407-8ba5-b50f5156ad5f"
   },
   "source": [
    "###### Step 7: Run the model with different RNN layers and uits\n"
   ]
  },
  {
   "cell_type": "code",
   "execution_count": 13,
   "id": "b8855d31-c951-4f77-a3d6-a4bc2a851f04",
   "metadata": {
    "colab": {
     "base_uri": "https://localhost:8080/"
    },
    "id": "b8855d31-c951-4f77-a3d6-a4bc2a851f04",
    "outputId": "1e67f2e2-71a2-4f17-eb76-ef302af9c8c6"
   },
   "outputs": [
    {
     "name": "stdout",
     "output_type": "stream",
     "text": [
      "Training LSTM model with 16 units\n",
      "Epoch 1/3\n",
      "469/469 [==============================] - 55s 113ms/step - loss: 0.4400 - accuracy: 0.7942 - val_loss: 0.3446 - val_accuracy: 0.8571\n",
      "Epoch 2/3\n",
      "469/469 [==============================] - 29s 63ms/step - loss: 0.2580 - accuracy: 0.9001 - val_loss: 0.3132 - val_accuracy: 0.8721\n",
      "Epoch 3/3\n",
      "469/469 [==============================] - 19s 41ms/step - loss: 0.2402 - accuracy: 0.9009 - val_loss: 0.7547 - val_accuracy: 0.6390\n",
      "Training LSTM model with 32 units\n",
      "Epoch 1/3\n",
      "469/469 [==============================] - 59s 120ms/step - loss: 0.4578 - accuracy: 0.7832 - val_loss: 0.4293 - val_accuracy: 0.8150\n",
      "Epoch 2/3\n",
      "469/469 [==============================] - 30s 63ms/step - loss: 0.2642 - accuracy: 0.8977 - val_loss: 0.3678 - val_accuracy: 0.8448\n",
      "Epoch 3/3\n",
      "469/469 [==============================] - 18s 39ms/step - loss: 0.1906 - accuracy: 0.9295 - val_loss: 0.3629 - val_accuracy: 0.8628\n",
      "Training LSTM model with 64 units\n",
      "Epoch 1/3\n",
      "469/469 [==============================] - 62s 127ms/step - loss: 0.4747 - accuracy: 0.7739 - val_loss: 0.4073 - val_accuracy: 0.8249\n",
      "Epoch 2/3\n",
      "469/469 [==============================] - 26s 56ms/step - loss: 0.2750 - accuracy: 0.8909 - val_loss: 0.3317 - val_accuracy: 0.8689\n",
      "Epoch 3/3\n",
      "469/469 [==============================] - 19s 42ms/step - loss: 0.1760 - accuracy: 0.9359 - val_loss: 0.3638 - val_accuracy: 0.8638\n",
      "Training GRU model with 16 units\n",
      "Epoch 1/3\n",
      "469/469 [==============================] - 60s 123ms/step - loss: 0.4669 - accuracy: 0.7674 - val_loss: 0.4857 - val_accuracy: 0.8093\n",
      "Epoch 2/3\n",
      "469/469 [==============================] - 28s 61ms/step - loss: 0.2506 - accuracy: 0.9016 - val_loss: 0.3491 - val_accuracy: 0.8548\n",
      "Epoch 3/3\n",
      "469/469 [==============================] - 18s 39ms/step - loss: 0.1587 - accuracy: 0.9432 - val_loss: 0.3335 - val_accuracy: 0.8692\n",
      "Training GRU model with 32 units\n",
      "Epoch 1/3\n",
      "469/469 [==============================] - 57s 117ms/step - loss: 0.4773 - accuracy: 0.7645 - val_loss: 0.4093 - val_accuracy: 0.8191\n",
      "Epoch 2/3\n",
      "469/469 [==============================] - 28s 61ms/step - loss: 0.2698 - accuracy: 0.8949 - val_loss: 0.3641 - val_accuracy: 0.8426\n",
      "Epoch 3/3\n",
      "469/469 [==============================] - 18s 39ms/step - loss: 0.1847 - accuracy: 0.9331 - val_loss: 0.3562 - val_accuracy: 0.8562\n",
      "Training GRU model with 64 units\n",
      "Epoch 1/3\n",
      "469/469 [==============================] - 63s 130ms/step - loss: 0.5144 - accuracy: 0.7353 - val_loss: 0.3538 - val_accuracy: 0.8498\n",
      "Epoch 2/3\n",
      "469/469 [==============================] - 27s 57ms/step - loss: 0.2596 - accuracy: 0.8963 - val_loss: 0.3468 - val_accuracy: 0.8545\n",
      "Epoch 3/3\n",
      "469/469 [==============================] - 19s 40ms/step - loss: 0.1633 - accuracy: 0.9429 - val_loss: 0.3363 - val_accuracy: 0.8781\n"
     ]
    }
   ],
   "source": [
    "rnn_layers = [\"LSTM\", \"GRU\"]\n",
    "units_list = [16, 32, 64]\n",
    "for rnn_layer in rnn_layers:\n",
    "    for units in units_list:\n",
    "        model = Sequential()\n",
    "        model.add(Embedding(input_dim=10000, output_dim=embedding_dim, input_length=max_sequence_length))\n",
    "        if rnn_layer == \"LSTM\":\n",
    "            model.add(LSTM(units))\n",
    "        elif rnn_layer == \"GRU\":\n",
    "            model.add(GRU(units))\n",
    "        model.add(Dense(1, activation='sigmoid'))\n",
    "        model.compile(loss='binary_crossentropy', optimizer='adam', metrics=['accuracy'])\n",
    "        print(f\"Training {rnn_layer} model with {units} units\")\n",
    "        model.fit(x_train_split, y_train_split, validation_data=(x_val_split, y_val_split), epochs=3)"
   ]
  },
  {
   "cell_type": "markdown",
   "id": "7260dfc1-da78-4d58-a2b3-007407abf13c",
   "metadata": {
    "id": "7260dfc1-da78-4d58-a2b3-007407abf13c"
   },
   "source": [
    "##### Step 8: Predict the class for a sample text\n"
   ]
  },
  {
   "cell_type": "code",
   "execution_count": 16,
   "id": "PMIXhtSJfQUq",
   "metadata": {
    "colab": {
     "base_uri": "https://localhost:8080/"
    },
    "id": "PMIXhtSJfQUq",
    "outputId": "6ab4dfc6-2767-4f5f-cb7b-348fcacefd13"
   },
   "outputs": [
    {
     "name": "stdout",
     "output_type": "stream",
     "text": [
      "Downloading data from https://storage.googleapis.com/tensorflow/tf-keras-datasets/imdb_word_index.json\n",
      "1641221/1641221 [==============================] - 0s 0us/step\n"
     ]
    }
   ],
   "source": [
    "from tensorflow.keras.preprocessing.text import Tokenizer\n",
    "(x_train, y_train), (x_test, y_test) = imdb.load_data(num_words=10000)\n",
    "word_index = imdb.get_word_index()\n",
    "tokenizer = Tokenizer(num_words=10000)\n",
    "x_train_text = [\" \".join([word_index.get(i - 3, \"\") for i in sequence]) for sequence in x_train]\n",
    "tokenizer.fit_on_texts(x_train_text)\n",
    "word_index = tokenizer.word_index"
   ]
  },
  {
   "cell_type": "code",
   "execution_count": 19,
   "id": "8f611537-f700-4c56-b76f-017f75d46c50",
   "metadata": {
    "colab": {
     "base_uri": "https://localhost:8080/"
    },
    "id": "8f611537-f700-4c56-b76f-017f75d46c50",
    "outputId": "79cae252-9794-4ecb-c163-f7901426dd5e"
   },
   "outputs": [
    {
     "name": "stdout",
     "output_type": "stream",
     "text": [
      "1/1 [==============================] - 0s 22ms/step\n",
      "Positive Sentiment\n"
     ]
    }
   ],
   "source": [
    "sample_text = \"TCS, Wipro, HCL Technologies and Infosys have ramped up their hiring projections and have added over 50,000 people in the second quarter of FY22, taking the hiring number to more than one lakh (1,02,517) in the first six months of the fiscal year. These four firms employ more than one fourth of India's total workforce.\"\n",
    "sample_text = [word_index[word.lower()] if word.lower() in word_index else 2 for word in sample_text.split()]\n",
    "sample_text = pad_sequences([sample_text], maxlen=max_sequence_length)\n",
    "prediction = model.predict(sample_text)\n",
    "if prediction >= 0.5:\n",
    "    print(\"Positive Sentiment\")\n",
    "else:\n",
    "    print(\"Negative Sentiment\")"
   ]
  },
  {
   "cell_type": "code",
   "execution_count": 19,
   "id": "4b82b482-765c-4f44-b6fd-fb7dc7a7ced6",
   "metadata": {
    "id": "4b82b482-765c-4f44-b6fd-fb7dc7a7ced6"
   },
   "outputs": [],
   "source": []
  }
 ],
 "metadata": {
  "accelerator": "GPU",
  "colab": {
   "provenance": []
  },
  "kernelspec": {
   "display_name": "Python 3 (ipykernel)",
   "language": "python",
   "name": "python3"
  },
  "language_info": {
   "codemirror_mode": {
    "name": "ipython",
    "version": 3
   },
   "file_extension": ".py",
   "mimetype": "text/x-python",
   "name": "python",
   "nbconvert_exporter": "python",
   "pygments_lexer": "ipython3",
   "version": "3.9.12"
  }
 },
 "nbformat": 4,
 "nbformat_minor": 5
}
