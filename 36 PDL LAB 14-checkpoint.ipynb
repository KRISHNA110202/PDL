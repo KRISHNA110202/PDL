{
 "cells": [
  {
   "cell_type": "markdown",
   "metadata": {
    "id": "DtzxrmtoCAFX"
   },
   "source": [
    "## SHREE KRISHNA KANTH S\n",
    "## 225229136\n",
    "## II MSc DATA SCIENCE \"A\"\n",
    "## PDL LAB 14"
   ]
  },
  {
   "cell_type": "code",
   "execution_count": 2,
   "metadata": {
    "id": "TNnjYVwnCJHm"
   },
   "outputs": [],
   "source": [
    "import tensorflow as tf\n",
    "from tensorflow.keras.datasets import cifar10\n",
    "from tensorflow.keras.models import Sequential\n",
    "from tensorflow.keras.layers import Conv2D, MaxPooling2D, Flatten, Dense, Dropout, Activation\n",
    "from tensorflow.keras.optimizers import RMSprop\n",
    "from tensorflow.keras.utils import to_categorical\n",
    "from tensorflow.keras.preprocessing.image import ImageDataGenerator"
   ]
  },
  {
   "cell_type": "markdown",
   "metadata": {},
   "source": [
    "### Step 1:"
   ]
  },
  {
   "cell_type": "code",
   "execution_count": 3,
   "metadata": {
    "colab": {
     "base_uri": "https://localhost:8080/"
    },
    "id": "eZP8XqrWCL-p",
    "outputId": "19f5fd70-7802-4a0b-ab40-961638896ed5"
   },
   "outputs": [
    {
     "name": "stdout",
     "output_type": "stream",
     "text": [
      "Downloading data from https://www.cs.toronto.edu/~kriz/cifar-10-python.tar.gz\n",
      "170498071/170498071 [==============================] - 2s 0us/step\n"
     ]
    }
   ],
   "source": [
    "(x_train, y_train), (x_test, y_test) = cifar10.load_data()"
   ]
  },
  {
   "cell_type": "markdown",
   "metadata": {},
   "source": [
    "### Step 2:"
   ]
  },
  {
   "cell_type": "code",
   "execution_count": 4,
   "metadata": {
    "id": "5tZBTMLkCPeF"
   },
   "outputs": [],
   "source": [
    "num_classes = 10"
   ]
  },
  {
   "cell_type": "markdown",
   "metadata": {},
   "source": [
    "### Step 3:"
   ]
  },
  {
   "cell_type": "code",
   "execution_count": 5,
   "metadata": {
    "id": "X421SZgLCP4r"
   },
   "outputs": [],
   "source": [
    "y_train = to_categorical(y_train, num_classes)\n",
    "y_test = to_categorical(y_test, num_classes)"
   ]
  },
  {
   "cell_type": "markdown",
   "metadata": {},
   "source": [
    "### Step 4:"
   ]
  },
  {
   "cell_type": "code",
   "execution_count": 6,
   "metadata": {
    "id": "Z0BEnXhMCQEw"
   },
   "outputs": [],
   "source": [
    "x_train = x_train.astype('float32')\n",
    "x_test = x_test.astype('float32')\n",
    "x_train /= 255\n",
    "x_test /= 255"
   ]
  },
  {
   "cell_type": "markdown",
   "metadata": {},
   "source": [
    "### Step 5:"
   ]
  },
  {
   "cell_type": "code",
   "execution_count": 7,
   "metadata": {
    "colab": {
     "base_uri": "https://localhost:8080/"
    },
    "id": "YCIWfL31CQOw",
    "outputId": "c77e9af5-4675-4cb4-a574-687345af1a7e"
   },
   "outputs": [
    {
     "name": "stdout",
     "output_type": "stream",
     "text": [
      "Model: \"sequential\"\n",
      "_________________________________________________________________\n",
      " Layer (type)                Output Shape              Param #   \n",
      "=================================================================\n",
      " conv2d (Conv2D)             (None, 16, 16, 32)        2432      \n",
      "                                                                 \n",
      " activation (Activation)     (None, 16, 16, 32)        0         \n",
      "                                                                 \n",
      " conv2d_1 (Conv2D)           (None, 6, 6, 32)          25632     \n",
      "                                                                 \n",
      " activation_1 (Activation)   (None, 6, 6, 32)          0         \n",
      "                                                                 \n",
      " max_pooling2d (MaxPooling2  (None, 3, 3, 32)          0         \n",
      " D)                                                              \n",
      "                                                                 \n",
      " dropout (Dropout)           (None, 3, 3, 32)          0         \n",
      "                                                                 \n",
      " flatten (Flatten)           (None, 288)               0         \n",
      "                                                                 \n",
      " dense (Dense)               (None, 512)               147968    \n",
      "                                                                 \n",
      " activation_2 (Activation)   (None, 512)               0         \n",
      "                                                                 \n",
      " dropout_1 (Dropout)         (None, 512)               0         \n",
      "                                                                 \n",
      " dense_1 (Dense)             (None, 10)                5130      \n",
      "                                                                 \n",
      " activation_3 (Activation)   (None, 10)                0         \n",
      "                                                                 \n",
      "=================================================================\n",
      "Total params: 181162 (707.66 KB)\n",
      "Trainable params: 181162 (707.66 KB)\n",
      "Non-trainable params: 0 (0.00 Byte)\n",
      "_________________________________________________________________\n"
     ]
    }
   ],
   "source": [
    "model = Sequential()\n",
    "\n",
    "model.add(Conv2D(32, (5, 5), strides=(2, 2), padding='same', input_shape=x_train.shape[1:]))\n",
    "model.add(Activation('relu'))\n",
    "\n",
    "model.add(Conv2D(32, (5, 5), strides=(2, 2)))\n",
    "model.add(Activation('relu'))\n",
    "\n",
    "model.add(MaxPooling2D(pool_size=(2, 2)))\n",
    "model.add(Dropout(0.25))\n",
    "\n",
    "model.add(Flatten())\n",
    "model.add(Dense(512))\n",
    "model.add(Activation('relu'))\n",
    "model.add(Dropout(0.5))\n",
    "model.add(Dense(num_classes))\n",
    "model.add(Activation('softmax'))\n",
    "\n",
    "model.summary()\n"
   ]
  },
  {
   "cell_type": "code",
   "execution_count": null,
   "metadata": {},
   "outputs": [],
   "source": [
    "### Step 6:\n"
   ]
  },
  {
   "cell_type": "code",
   "execution_count": 8,
   "metadata": {
    "id": "3-y0pybuCXPO"
   },
   "outputs": [],
   "source": [
    "batch_size = 32\n",
    "opt = tf.keras.optimizers.legacy.RMSprop(learning_rate=0.0005, decay=1e-6, rho=0.9, epsilon=1e-07)  # Use legacy RMSprop\n",
    "model.compile(loss='categorical_crossentropy', optimizer=opt, metrics=['accuracy'])"
   ]
  },
  {
   "cell_type": "code",
   "execution_count": 9,
   "metadata": {
    "id": "ABnl8iQ4CXgr"
   },
   "outputs": [],
   "source": [
    "### Step 7:\n",
    "\n",
    "datagen = ImageDataGenerator(\n",
    "    featurewise_center=False,\n",
    "    samplewise_center=False,\n",
    "    featurewise_std_normalization=False,\n",
    "    samplewise_std_normalization=False,\n",
    "    zca_whitening=False,\n",
    "    rotation_range=0,\n",
    "    width_shift_range=0.1,\n",
    "    height_shift_range=0.1,\n",
    "    horizontal_flip=True,\n",
    "    vertical_flip=False\n",
    ")\n",
    "\n",
    "datagen.fit(x_train)"
   ]
  },
  {
   "cell_type": "code",
   "execution_count": 10,
   "metadata": {
    "colab": {
     "base_uri": "https://localhost:8080/"
    },
    "id": "eGTJ0r_TCbSO",
    "outputId": "2b4322a7-61e2-4623-b18c-0975bf167882"
   },
   "outputs": [
    {
     "name": "stdout",
     "output_type": "stream",
     "text": [
      "Epoch 1/15\n"
     ]
    },
    {
     "name": "stderr",
     "output_type": "stream",
     "text": [
      "<ipython-input-10-4365f7bc05ab>:2: UserWarning: `Model.fit_generator` is deprecated and will be removed in a future version. Please use `Model.fit`, which supports generators.\n",
      "  model.fit_generator(datagen.flow(x_train, y_train, batch_size=batch_size),\n"
     ]
    },
    {
     "name": "stdout",
     "output_type": "stream",
     "text": [
      "1562/1562 [==============================] - 43s 21ms/step - loss: 1.7917 - accuracy: 0.3429 - val_loss: 1.4601 - val_accuracy: 0.4857\n",
      "Epoch 2/15\n",
      "1562/1562 [==============================] - 30s 19ms/step - loss: 1.5366 - accuracy: 0.4431 - val_loss: 1.3158 - val_accuracy: 0.5267\n",
      "Epoch 3/15\n",
      "1562/1562 [==============================] - 30s 19ms/step - loss: 1.4443 - accuracy: 0.4800 - val_loss: 1.2827 - val_accuracy: 0.5357\n",
      "Epoch 4/15\n",
      "1562/1562 [==============================] - 30s 19ms/step - loss: 1.3872 - accuracy: 0.5017 - val_loss: 1.3668 - val_accuracy: 0.5178\n",
      "Epoch 5/15\n",
      "1562/1562 [==============================] - 30s 19ms/step - loss: 1.3526 - accuracy: 0.5180 - val_loss: 1.1853 - val_accuracy: 0.5783\n",
      "Epoch 6/15\n",
      "1562/1562 [==============================] - 30s 19ms/step - loss: 1.3203 - accuracy: 0.5312 - val_loss: 1.1227 - val_accuracy: 0.6007\n",
      "Epoch 7/15\n",
      "1562/1562 [==============================] - 30s 19ms/step - loss: 1.2973 - accuracy: 0.5399 - val_loss: 1.1711 - val_accuracy: 0.5791\n",
      "Epoch 8/15\n",
      "1562/1562 [==============================] - 31s 20ms/step - loss: 1.2997 - accuracy: 0.5414 - val_loss: 1.1174 - val_accuracy: 0.6080\n",
      "Epoch 9/15\n",
      "1562/1562 [==============================] - 30s 19ms/step - loss: 1.2856 - accuracy: 0.5471 - val_loss: 1.1420 - val_accuracy: 0.6066\n",
      "Epoch 10/15\n",
      "1562/1562 [==============================] - 32s 20ms/step - loss: 1.2699 - accuracy: 0.5579 - val_loss: 1.2243 - val_accuracy: 0.5784\n",
      "Epoch 11/15\n",
      "1562/1562 [==============================] - 30s 19ms/step - loss: 1.2729 - accuracy: 0.5563 - val_loss: 1.0916 - val_accuracy: 0.6226\n",
      "Epoch 12/15\n",
      "1562/1562 [==============================] - 31s 20ms/step - loss: 1.2693 - accuracy: 0.5587 - val_loss: 1.1241 - val_accuracy: 0.6137\n",
      "Epoch 13/15\n",
      "1562/1562 [==============================] - 30s 19ms/step - loss: 1.2730 - accuracy: 0.5604 - val_loss: 1.1464 - val_accuracy: 0.6084\n",
      "Epoch 14/15\n",
      "1562/1562 [==============================] - 29s 19ms/step - loss: 1.2675 - accuracy: 0.5607 - val_loss: 1.1255 - val_accuracy: 0.6177\n",
      "Epoch 15/15\n",
      "1562/1562 [==============================] - 30s 19ms/step - loss: 1.2693 - accuracy: 0.5627 - val_loss: 1.0774 - val_accuracy: 0.6239\n"
     ]
    },
    {
     "data": {
      "text/plain": [
       "<keras.src.callbacks.History at 0x78f5de0c7040>"
      ]
     },
     "execution_count": 10,
     "metadata": {},
     "output_type": "execute_result"
    }
   ],
   "source": [
    "# Step 8: Train the model with data augmentation\n",
    "model.fit_generator(datagen.flow(x_train, y_train, batch_size=batch_size),\n",
    "                    steps_per_epoch=x_train.shape[0] // batch_size,\n",
    "                    epochs=15,\n",
    "                    validation_data=(x_test, y_test))"
   ]
  },
  {
   "cell_type": "markdown",
   "metadata": {
    "id": "L_myl1c7CblN"
   },
   "source": [
    "### Step 9:\n",
    "\n",
    "### 1. How does the performance compare with the non-augmented training?\n",
    "Answer: Data augmentation usually helps improve model performance by increasing model robustness and reducing overfitting.\n",
    "\n",
    "### 2. Experiment above with different settings of the data augmentation parameters.\n",
    "You can adjust parameters like rotation_range, width_shift_range, height_shift_range, etc., to see how they affect performance.\n"
   ]
  },
  {
   "cell_type": "markdown",
   "metadata": {},
   "source": [
    "### Step 10:"
   ]
  },
  {
   "cell_type": "code",
   "execution_count": 12,
   "metadata": {
    "colab": {
     "base_uri": "https://localhost:8080/"
    },
    "id": "5_3cvpZpCbxi",
    "outputId": "0ce733b6-69aa-4c4b-dc5f-dbb8075bd60e"
   },
   "outputs": [
    {
     "name": "stdout",
     "output_type": "stream",
     "text": [
      "Model: \"sequential_1\"\n",
      "_________________________________________________________________\n",
      " Layer (type)                Output Shape              Param #   \n",
      "=================================================================\n",
      " conv2d_2 (Conv2D)           (None, 32, 32, 32)        896       \n",
      "                                                                 \n",
      " activation_4 (Activation)   (None, 32, 32, 32)        0         \n",
      "                                                                 \n",
      " conv2d_3 (Conv2D)           (None, 32, 32, 32)        9248      \n",
      "                                                                 \n",
      " activation_5 (Activation)   (None, 32, 32, 32)        0         \n",
      "                                                                 \n",
      " max_pooling2d_1 (MaxPoolin  (None, 16, 16, 32)        0         \n",
      " g2D)                                                            \n",
      "                                                                 \n",
      " conv2d_4 (Conv2D)           (None, 16, 16, 64)        18496     \n",
      "                                                                 \n",
      " activation_6 (Activation)   (None, 16, 16, 64)        0         \n",
      "                                                                 \n",
      " conv2d_5 (Conv2D)           (None, 16, 16, 64)        36928     \n",
      "                                                                 \n",
      " activation_7 (Activation)   (None, 16, 16, 64)        0         \n",
      "                                                                 \n",
      " max_pooling2d_2 (MaxPoolin  (None, 8, 8, 64)          0         \n",
      " g2D)                                                            \n",
      "                                                                 \n",
      " flatten_1 (Flatten)         (None, 4096)              0         \n",
      "                                                                 \n",
      " dense_2 (Dense)             (None, 512)               2097664   \n",
      "                                                                 \n",
      " activation_8 (Activation)   (None, 512)               0         \n",
      "                                                                 \n",
      " dropout_2 (Dropout)         (None, 512)               0         \n",
      "                                                                 \n",
      " dense_3 (Dense)             (None, 10)                5130      \n",
      "                                                                 \n",
      " activation_9 (Activation)   (None, 10)                0         \n",
      "                                                                 \n",
      "=================================================================\n",
      "Total params: 2168362 (8.27 MB)\n",
      "Trainable params: 2168362 (8.27 MB)\n",
      "Non-trainable params: 0 (0.00 Byte)\n",
      "_________________________________________________________________\n"
     ]
    }
   ],
   "source": [
    "model1 = Sequential()\n",
    "model1.add(Conv2D(32, (3, 3), strides=(1, 1), padding='same', input_shape=x_train.shape[1:]))\n",
    "model1.add(Activation('relu'))\n",
    "model1.add(Conv2D(32, (3, 3), strides=(1, 1), padding='same'))\n",
    "model1.add(Activation('relu'))\n",
    "model1.add(MaxPooling2D(pool_size=(2, 2)))\n",
    "model1.add(Conv2D(64, (3, 3), strides=(1, 1), padding='same'))\n",
    "model1.add(Activation('relu'))\n",
    "model1.add(Conv2D(64, (3, 3), strides=(1, 1), padding='same'))\n",
    "model1.add(Activation('relu'))\n",
    "model1.add(MaxPooling2D(pool_size=(2, 2)))\n",
    "model1.add(Flatten())\n",
    "model1.add(Dense(512))\n",
    "model1.add(Activation('relu'))\n",
    "model1.add(Dropout(0.5))\n",
    "model1.add(Dense(num_classes))\n",
    "model1.add(Activation('softmax'))\n",
    "\n",
    "model1.summary()"
   ]
  },
  {
   "cell_type": "code",
   "execution_count": 13,
   "metadata": {
    "colab": {
     "base_uri": "https://localhost:8080/"
    },
    "id": "j6impQdTB9mU",
    "outputId": "dd8cbfd1-bb9e-4c9d-88ff-9c27efba9863"
   },
   "outputs": [
    {
     "name": "stdout",
     "output_type": "stream",
     "text": [
      "Epoch 1/15\n"
     ]
    },
    {
     "name": "stderr",
     "output_type": "stream",
     "text": [
      "<ipython-input-13-e16774c8c64b>:4: UserWarning: `Model.fit_generator` is deprecated and will be removed in a future version. Please use `Model.fit`, which supports generators.\n",
      "  model1.fit_generator(datagen.flow(x_train, y_train, batch_size=batch_size),\n"
     ]
    },
    {
     "name": "stdout",
     "output_type": "stream",
     "text": [
      "1562/1562 [==============================] - 34s 21ms/step - loss: 1.5644 - accuracy: 0.4337 - val_loss: 1.1628 - val_accuracy: 0.5850\n",
      "Epoch 2/15\n",
      "1562/1562 [==============================] - 32s 20ms/step - loss: 1.1700 - accuracy: 0.5838 - val_loss: 0.9660 - val_accuracy: 0.6588\n",
      "Epoch 3/15\n",
      "1562/1562 [==============================] - 33s 21ms/step - loss: 1.0077 - accuracy: 0.6501 - val_loss: 0.8677 - val_accuracy: 0.6978\n",
      "Epoch 4/15\n",
      "1562/1562 [==============================] - 33s 21ms/step - loss: 0.9254 - accuracy: 0.6804 - val_loss: 0.8509 - val_accuracy: 0.7140\n",
      "Epoch 5/15\n",
      "1562/1562 [==============================] - 33s 21ms/step - loss: 0.8886 - accuracy: 0.6980 - val_loss: 0.7839 - val_accuracy: 0.7355\n",
      "Epoch 6/15\n",
      "1562/1562 [==============================] - 32s 21ms/step - loss: 0.8646 - accuracy: 0.7071 - val_loss: 0.8795 - val_accuracy: 0.7081\n",
      "Epoch 7/15\n",
      "1562/1562 [==============================] - 33s 21ms/step - loss: 0.8645 - accuracy: 0.7091 - val_loss: 0.8660 - val_accuracy: 0.7283\n",
      "Epoch 8/15\n",
      "1562/1562 [==============================] - 33s 21ms/step - loss: 0.8600 - accuracy: 0.7143 - val_loss: 0.7282 - val_accuracy: 0.7590\n",
      "Epoch 9/15\n",
      "1562/1562 [==============================] - 32s 21ms/step - loss: 0.8772 - accuracy: 0.7101 - val_loss: 0.9793 - val_accuracy: 0.6783\n",
      "Epoch 10/15\n",
      "1562/1562 [==============================] - 33s 21ms/step - loss: 0.8790 - accuracy: 0.7143 - val_loss: 0.8154 - val_accuracy: 0.7422\n",
      "Epoch 11/15\n",
      "1562/1562 [==============================] - 33s 21ms/step - loss: 0.9026 - accuracy: 0.7060 - val_loss: 0.9116 - val_accuracy: 0.7378\n",
      "Epoch 12/15\n",
      "1562/1562 [==============================] - 33s 21ms/step - loss: 0.9271 - accuracy: 0.7000 - val_loss: 0.7780 - val_accuracy: 0.7571\n",
      "Epoch 13/15\n",
      "1562/1562 [==============================] - 32s 20ms/step - loss: 0.9261 - accuracy: 0.6972 - val_loss: 1.0306 - val_accuracy: 0.7192\n",
      "Epoch 14/15\n",
      "1562/1562 [==============================] - 33s 21ms/step - loss: 0.9350 - accuracy: 0.6956 - val_loss: 0.7945 - val_accuracy: 0.7320\n",
      "Epoch 15/15\n",
      "1562/1562 [==============================] - 33s 21ms/step - loss: 0.9491 - accuracy: 0.6937 - val_loss: 0.9268 - val_accuracy: 0.7060\n"
     ]
    },
    {
     "data": {
      "text/plain": [
       "<keras.src.callbacks.History at 0x78f5a03c3a30>"
      ]
     },
     "execution_count": 13,
     "metadata": {},
     "output_type": "execute_result"
    }
   ],
   "source": [
    "### Step 11:\n",
    "\n",
    "model1.compile(loss='categorical_crossentropy', optimizer=opt, metrics=['accuracy'])\n",
    "model1.fit_generator(datagen.flow(x_train, y_train, batch_size=batch_size),\n",
    "                    steps_per_epoch=x_train.shape[0] // batch_size,\n",
    "                    epochs=15,\n",
    "                    validation_data=(x_test, y_test))\n",
    "\n"
   ]
  },
  {
   "cell_type": "code",
   "execution_count": null,
   "metadata": {
    "id": "-yGsuur-C-N2"
   },
   "outputs": [],
   "source": []
  }
 ],
 "metadata": {
  "accelerator": "GPU",
  "colab": {
   "gpuType": "T4",
   "provenance": []
  },
  "kernelspec": {
   "display_name": "Python 3 (ipykernel)",
   "language": "python",
   "name": "python3"
  },
  "language_info": {
   "codemirror_mode": {
    "name": "ipython",
    "version": 3
   },
   "file_extension": ".py",
   "mimetype": "text/x-python",
   "name": "python",
   "nbconvert_exporter": "python",
   "pygments_lexer": "ipython3",
   "version": "3.9.12"
  }
 },
 "nbformat": 4,
 "nbformat_minor": 1
}
