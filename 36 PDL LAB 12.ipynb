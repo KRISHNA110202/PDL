{
 "cells": [
  {
   "cell_type": "markdown",
   "id": "8b0f40a5",
   "metadata": {},
   "source": [
    "## SHREE KRISHNA KANTH S\n",
    "## 225229136\n",
    "## II MSc DATA SCIENCE \"A\"\n",
    "## PDL LAB 12"
   ]
  },
  {
   "cell_type": "markdown",
   "id": "33749815",
   "metadata": {},
   "source": [
    "### Step 1: Import the necessary libraries"
   ]
  },
  {
   "cell_type": "code",
   "execution_count": 1,
   "id": "65759f2f",
   "metadata": {},
   "outputs": [],
   "source": [
    "import datetime\n",
    "import keras\n",
    "from keras.datasets import mnist\n",
    "from keras.models import Sequential\n",
    "from keras.layers import Dense, Dropout, Activation, Flatten, Conv2D, MaxPooling2D"
   ]
  },
  {
   "cell_type": "markdown",
   "id": "51590950",
   "metadata": {},
   "source": [
    "### Step 2: Initialize some parameters"
   ]
  },
  {
   "cell_type": "code",
   "execution_count": 2,
   "id": "61991876",
   "metadata": {},
   "outputs": [],
   "source": [
    "now = datetime.datetime.now\n",
    "batch_size = 128\n",
    "num_classes = 5\n",
    "epochs = 5\n",
    "img_rows, img_cols = 28, 28\n",
    "filters = 32\n",
    "pool_size = 2\n",
    "kernel_size = 3"
   ]
  },
  {
   "cell_type": "markdown",
   "id": "82d39f84",
   "metadata": {},
   "source": [
    "### Step 3: Partition MNIST dataset"
   ]
  },
  {
   "cell_type": "code",
   "execution_count": 3,
   "id": "178f283f",
   "metadata": {},
   "outputs": [],
   "source": [
    "(x_train, y_train), (x_test, y_test) = mnist.load_data()"
   ]
  },
  {
   "cell_type": "markdown",
   "id": "3dd63723",
   "metadata": {},
   "source": [
    "### Create datasets for digits below 5 and digits 5 and above"
   ]
  },
  {
   "cell_type": "code",
   "execution_count": 4,
   "id": "e3a0462a",
   "metadata": {},
   "outputs": [],
   "source": [
    "x_train_1t5 = x_train[y_train < 5]\n",
    "y_train_1t5 = y_train[y_train < 5]\n",
    "x_test_1t5 = x_test[y_test < 5]\n",
    "y_test_1t5 = y_test[y_test < 5]\n",
    "\n",
    "x_train_gte5 = x_train[y_train >= 5]\n",
    "y_train_gte5 = y_train[y_train >= 5] - 5\n",
    "x_test_gte5 = x_test[y_test >= 5]\n",
    "y_test_gte5 = y_test[y_test >= 5] - 5"
   ]
  },
  {
   "cell_type": "markdown",
   "id": "b13fe1c7",
   "metadata": {},
   "source": [
    "### Step 4: Define the \"feature\" layers"
   ]
  },
  {
   "cell_type": "code",
   "execution_count": 5,
   "id": "e705afb4",
   "metadata": {},
   "outputs": [],
   "source": [
    "feature_layers = [\n",
    "    Conv2D(filters, kernel_size, padding='valid', activation='relu', input_shape=(img_rows, img_cols, 1)),\n",
    "    Conv2D(filters, kernel_size, activation='relu'),\n",
    "    MaxPooling2D(pool_size=(pool_size, pool_size)),\n",
    "    Dropout(0.25),\n",
    "    Flatten()\n",
    "]"
   ]
  },
  {
   "cell_type": "markdown",
   "id": "47306ac1",
   "metadata": {},
   "source": [
    "### Step 5: Define the \"classification\" layers"
   ]
  },
  {
   "cell_type": "code",
   "execution_count": 6,
   "id": "7e1eda45",
   "metadata": {},
   "outputs": [],
   "source": [
    "classification_layers = [\n",
    "    Dense(128, activation='relu'),\n",
    "    Dropout(0.5),\n",
    "    Dense(num_classes, activation='softmax')\n",
    "]"
   ]
  },
  {
   "cell_type": "markdown",
   "id": "1b2d075c",
   "metadata": {},
   "source": [
    "### Step 6: Define a Sequential model with feature and classification layers"
   ]
  },
  {
   "cell_type": "code",
   "execution_count": 7,
   "id": "8167b850",
   "metadata": {},
   "outputs": [
    {
     "name": "stdout",
     "output_type": "stream",
     "text": [
      "Model: \"sequential\"\n",
      "_________________________________________________________________\n",
      " Layer (type)                Output Shape              Param #   \n",
      "=================================================================\n",
      " conv2d (Conv2D)             (None, 26, 26, 32)        320       \n",
      "                                                                 \n",
      " conv2d_1 (Conv2D)           (None, 24, 24, 32)        9248      \n",
      "                                                                 \n",
      " max_pooling2d (MaxPooling2  (None, 12, 12, 32)        0         \n",
      " D)                                                              \n",
      "                                                                 \n",
      " dropout (Dropout)           (None, 12, 12, 32)        0         \n",
      "                                                                 \n",
      " flatten (Flatten)           (None, 4608)              0         \n",
      "                                                                 \n",
      " dense (Dense)               (None, 128)               589952    \n",
      "                                                                 \n",
      " dropout_1 (Dropout)         (None, 128)               0         \n",
      "                                                                 \n",
      " dense_1 (Dense)             (None, 5)                 645       \n",
      "                                                                 \n",
      "=================================================================\n",
      "Total params: 600165 (2.29 MB)\n",
      "Trainable params: 600165 (2.29 MB)\n",
      "Non-trainable params: 0 (0.00 Byte)\n",
      "_________________________________________________________________\n",
      "None\n"
     ]
    }
   ],
   "source": [
    "model = Sequential(feature_layers + classification_layers)\n",
    "print(model.summary())"
   ]
  },
  {
   "cell_type": "markdown",
   "id": "0655aabe",
   "metadata": {},
   "source": [
    "### Step 7: Create a function train_model()"
   ]
  },
  {
   "cell_type": "code",
   "execution_count": 8,
   "id": "52d007c2",
   "metadata": {},
   "outputs": [],
   "source": [
    "def train_model(model, train_data, test_data, num_classes):\n",
    "    x_train, y_train = train_data\n",
    "    x_test, y_test = test_data\n",
    "    \n",
    "    x_train = x_train.reshape(-1, img_rows, img_cols, 1)\n",
    "    x_test = x_test.reshape(-1, img_rows, img_cols, 1)\n",
    "    x_train = x_train.astype('float32') / 255\n",
    "    x_test = x_test.astype('float32') / 255\n",
    "    \n",
    "    print('x_train shape:', x_train.shape)\n",
    "    print('x_test shape:', x_test.shape)\n",
    "    \n",
    "    y_train = keras.utils.to_categorical(y_train, num_classes)\n",
    "    y_test = keras.utils.to_categorical(y_test, num_classes)\n",
    "    \n",
    "    model.compile(loss='categorical_crossentropy',\n",
    "                  optimizer='adadelta',\n",
    "                  metrics=['accuracy'])\n",
    "    \n",
    "    start_time = now()\n",
    "    model.fit(x_train, y_train,\n",
    "              batch_size=batch_size,\n",
    "              epochs=epochs,\n",
    "              verbose=1,\n",
    "              validation_data=(x_test, y_test))\n",
    "    end_time = now()\n",
    "    print(\"Training time:\", end_time - start_time)\n",
    "    \n",
    "    score = model.evaluate(x_test, y_test, verbose=0)\n",
    "    print('Test loss:', score[0])\n",
    "    print('Test accuracy:', score[1])"
   ]
  },
  {
   "cell_type": "markdown",
   "id": "df652818",
   "metadata": {},
   "source": [
    "### Step 8: Training on digits 5 to 9"
   ]
  },
  {
   "cell_type": "code",
   "execution_count": 9,
   "id": "15d250f6",
   "metadata": {
    "scrolled": true
   },
   "outputs": [
    {
     "name": "stdout",
     "output_type": "stream",
     "text": [
      "x_train shape: (29404, 28, 28, 1)\n",
      "x_test shape: (4861, 28, 28, 1)\n",
      "Epoch 1/5\n",
      "230/230 [==============================] - 22s 91ms/step - loss: 1.5947 - accuracy: 0.2420 - val_loss: 1.5814 - val_accuracy: 0.3452\n",
      "Epoch 2/5\n",
      "230/230 [==============================] - 21s 91ms/step - loss: 1.5765 - accuracy: 0.2972 - val_loss: 1.5605 - val_accuracy: 0.4898\n",
      "Epoch 3/5\n",
      "230/230 [==============================] - 21s 92ms/step - loss: 1.5569 - accuracy: 0.3650 - val_loss: 1.5378 - val_accuracy: 0.5857\n",
      "Epoch 4/5\n",
      "230/230 [==============================] - 21s 91ms/step - loss: 1.5341 - accuracy: 0.4273 - val_loss: 1.5119 - val_accuracy: 0.6530\n",
      "Epoch 5/5\n",
      "230/230 [==============================] - 21s 92ms/step - loss: 1.5083 - accuracy: 0.4809 - val_loss: 1.4819 - val_accuracy: 0.6949\n",
      "Training time: 0:01:45.941827\n",
      "Test loss: 1.4818509817123413\n",
      "Test accuracy: 0.6949187517166138\n"
     ]
    }
   ],
   "source": [
    "train_model(model, (x_train_gte5, y_train_gte5), (x_test_gte5, y_test_gte5), num_classes)"
   ]
  },
  {
   "cell_type": "markdown",
   "id": "2b28aec3",
   "metadata": {},
   "source": [
    "### Step 9: Freeze Feature Layers\n"
   ]
  },
  {
   "cell_type": "code",
   "execution_count": 10,
   "id": "17e12f4a",
   "metadata": {},
   "outputs": [],
   "source": [
    "for layer in feature_layers:\n",
    "    layer.trainable = False"
   ]
  },
  {
   "cell_type": "markdown",
   "id": "2b4407a8",
   "metadata": {},
   "source": [
    "### Step 10: Print Summary"
   ]
  },
  {
   "cell_type": "code",
   "execution_count": 11,
   "id": "a86ade62",
   "metadata": {},
   "outputs": [
    {
     "name": "stdout",
     "output_type": "stream",
     "text": [
      "Model: \"sequential\"\n",
      "_________________________________________________________________\n",
      " Layer (type)                Output Shape              Param #   \n",
      "=================================================================\n",
      " conv2d (Conv2D)             (None, 26, 26, 32)        320       \n",
      "                                                                 \n",
      " conv2d_1 (Conv2D)           (None, 24, 24, 32)        9248      \n",
      "                                                                 \n",
      " max_pooling2d (MaxPooling2  (None, 12, 12, 32)        0         \n",
      " D)                                                              \n",
      "                                                                 \n",
      " dropout (Dropout)           (None, 12, 12, 32)        0         \n",
      "                                                                 \n",
      " flatten (Flatten)           (None, 4608)              0         \n",
      "                                                                 \n",
      " dense (Dense)               (None, 128)               589952    \n",
      "                                                                 \n",
      " dropout_1 (Dropout)         (None, 128)               0         \n",
      "                                                                 \n",
      " dense_1 (Dense)             (None, 5)                 645       \n",
      "                                                                 \n",
      "=================================================================\n",
      "Total params: 600165 (2.29 MB)\n",
      "Trainable params: 590597 (2.25 MB)\n",
      "Non-trainable params: 9568 (37.38 KB)\n",
      "_________________________________________________________________\n",
      "None\n"
     ]
    }
   ],
   "source": [
    "print(model.summary())"
   ]
  },
  {
   "cell_type": "markdown",
   "id": "df8e4860",
   "metadata": {},
   "source": [
    "### Step 11: Training for digits 0 to 4 based on digits 5 to 9"
   ]
  },
  {
   "cell_type": "code",
   "execution_count": 12,
   "id": "a0f84dfa",
   "metadata": {},
   "outputs": [
    {
     "name": "stdout",
     "output_type": "stream",
     "text": [
      "x_train shape: (30596, 28, 28, 1)\n",
      "x_test shape: (5139, 28, 28, 1)\n",
      "Epoch 1/5\n",
      "240/240 [==============================] - 6s 23ms/step - loss: 1.5928 - accuracy: 0.2443 - val_loss: 1.5678 - val_accuracy: 0.3345\n",
      "Epoch 2/5\n",
      "240/240 [==============================] - 5s 23ms/step - loss: 1.5582 - accuracy: 0.3233 - val_loss: 1.5315 - val_accuracy: 0.4491\n",
      "Epoch 3/5\n",
      "240/240 [==============================] - 6s 23ms/step - loss: 1.5249 - accuracy: 0.3934 - val_loss: 1.4959 - val_accuracy: 0.5454\n",
      "Epoch 4/5\n",
      "240/240 [==============================] - 5s 23ms/step - loss: 1.4912 - accuracy: 0.4646 - val_loss: 1.4597 - val_accuracy: 0.6270\n",
      "Epoch 5/5\n",
      "240/240 [==============================] - 5s 23ms/step - loss: 1.4574 - accuracy: 0.5300 - val_loss: 1.4230 - val_accuracy: 0.6943\n",
      "Training time: 0:00:27.855789\n",
      "Test loss: 1.4229519367218018\n",
      "Test accuracy: 0.694298505783081\n"
     ]
    }
   ],
   "source": [
    "train_model(model, (x_train_1t5, y_train_1t5), (x_test_1t5, y_test_1t5), num_classes)"
   ]
  },
  {
   "cell_type": "code",
   "execution_count": null,
   "id": "860b5d60",
   "metadata": {},
   "outputs": [],
   "source": []
  }
 ],
 "metadata": {
  "kernelspec": {
   "display_name": "Python 3 (ipykernel)",
   "language": "python",
   "name": "python3"
  },
  "language_info": {
   "codemirror_mode": {
    "name": "ipython",
    "version": 3
   },
   "file_extension": ".py",
   "mimetype": "text/x-python",
   "name": "python",
   "nbconvert_exporter": "python",
   "pygments_lexer": "ipython3",
   "version": "3.9.12"
  }
 },
 "nbformat": 4,
 "nbformat_minor": 5
}
